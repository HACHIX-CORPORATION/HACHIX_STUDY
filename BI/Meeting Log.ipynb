{
 "cells": [
  {
   "cell_type": "code",
   "execution_count": 1,
   "metadata": {},
   "outputs": [],
   "source": [
    "\n",
    "import pandas as pd\n",
    "import numpy as np\n",
    "import matplotlib.pyplot as plt\n",
    "%matplotlib inline"
   ]
  },
  {
   "cell_type": "markdown",
   "metadata": {},
   "source": [
    "# Data 2018/7/2~2018/7/19"
   ]
  },
  {
   "cell_type": "code",
   "execution_count": 2,
   "metadata": {},
   "outputs": [],
   "source": [
    "data = pd.read_csv('./2018_7_2.csv')"
   ]
  },
  {
   "cell_type": "code",
   "execution_count": 3,
   "metadata": {},
   "outputs": [
    {
     "data": {
      "text/html": [
       "<div>\n",
       "<style scoped>\n",
       "    .dataframe tbody tr th:only-of-type {\n",
       "        vertical-align: middle;\n",
       "    }\n",
       "\n",
       "    .dataframe tbody tr th {\n",
       "        vertical-align: top;\n",
       "    }\n",
       "\n",
       "    .dataframe thead th {\n",
       "        text-align: right;\n",
       "    }\n",
       "</style>\n",
       "<table border=\"1\" class=\"dataframe\">\n",
       "  <thead>\n",
       "    <tr style=\"text-align: right;\">\n",
       "      <th></th>\n",
       "      <th>Date</th>\n",
       "      <th>Time</th>\n",
       "      <th>Machine</th>\n",
       "      <th>Product</th>\n",
       "      <th>Status</th>\n",
       "      <th>Roll</th>\n",
       "      <th>Material</th>\n",
       "      <th>Piece</th>\n",
       "      <th>Speed</th>\n",
       "      <th>Width</th>\n",
       "      <th>Center</th>\n",
       "      <th>Trouble</th>\n",
       "      <th>Temperature</th>\n",
       "      <th>Drum1</th>\n",
       "      <th>Drum2</th>\n",
       "      <th>Drum3</th>\n",
       "      <th>Drum4</th>\n",
       "      <th>Drum5</th>\n",
       "    </tr>\n",
       "  </thead>\n",
       "  <tbody>\n",
       "    <tr>\n",
       "      <td>0</td>\n",
       "      <td>2018/7/2</td>\n",
       "      <td>15:55:35</td>\n",
       "      <td>F5025</td>\n",
       "      <td>prepare</td>\n",
       "      <td>ON</td>\n",
       "      <td>1</td>\n",
       "      <td>135.08</td>\n",
       "      <td>550</td>\n",
       "      <td>434.62</td>\n",
       "      <td>300.28</td>\n",
       "      <td>-1.35</td>\n",
       "      <td>2</td>\n",
       "      <td>31.74</td>\n",
       "      <td>75</td>\n",
       "      <td>78</td>\n",
       "      <td>74</td>\n",
       "      <td>74</td>\n",
       "      <td>71</td>\n",
       "    </tr>\n",
       "    <tr>\n",
       "      <td>1</td>\n",
       "      <td>2018/7/2</td>\n",
       "      <td>15:56:05</td>\n",
       "      <td>F5025</td>\n",
       "      <td>prepare</td>\n",
       "      <td>ON</td>\n",
       "      <td>1</td>\n",
       "      <td>138.60</td>\n",
       "      <td>566</td>\n",
       "      <td>441.63</td>\n",
       "      <td>300.37</td>\n",
       "      <td>11.85</td>\n",
       "      <td>2</td>\n",
       "      <td>31.74</td>\n",
       "      <td>74</td>\n",
       "      <td>79</td>\n",
       "      <td>73</td>\n",
       "      <td>75</td>\n",
       "      <td>72</td>\n",
       "    </tr>\n",
       "    <tr>\n",
       "      <td>2</td>\n",
       "      <td>2018/7/2</td>\n",
       "      <td>15:56:35</td>\n",
       "      <td>F5025</td>\n",
       "      <td>prepare</td>\n",
       "      <td>ON</td>\n",
       "      <td>1</td>\n",
       "      <td>142.34</td>\n",
       "      <td>582</td>\n",
       "      <td>427.61</td>\n",
       "      <td>300.19</td>\n",
       "      <td>21.01</td>\n",
       "      <td>2</td>\n",
       "      <td>32.23</td>\n",
       "      <td>75</td>\n",
       "      <td>79</td>\n",
       "      <td>75</td>\n",
       "      <td>76</td>\n",
       "      <td>75</td>\n",
       "    </tr>\n",
       "    <tr>\n",
       "      <td>3</td>\n",
       "      <td>2018/7/2</td>\n",
       "      <td>15:57:05</td>\n",
       "      <td>F5025</td>\n",
       "      <td>prepare</td>\n",
       "      <td>ON</td>\n",
       "      <td>1</td>\n",
       "      <td>145.86</td>\n",
       "      <td>598</td>\n",
       "      <td>427.61</td>\n",
       "      <td>300.55</td>\n",
       "      <td>-3.05</td>\n",
       "      <td>2</td>\n",
       "      <td>32.23</td>\n",
       "      <td>74</td>\n",
       "      <td>78</td>\n",
       "      <td>75</td>\n",
       "      <td>76</td>\n",
       "      <td>77</td>\n",
       "    </tr>\n",
       "    <tr>\n",
       "      <td>4</td>\n",
       "      <td>2018/7/2</td>\n",
       "      <td>15:57:35</td>\n",
       "      <td>F5025</td>\n",
       "      <td>prepare</td>\n",
       "      <td>ON</td>\n",
       "      <td>1</td>\n",
       "      <td>149.60</td>\n",
       "      <td>614</td>\n",
       "      <td>434.62</td>\n",
       "      <td>300.19</td>\n",
       "      <td>18.86</td>\n",
       "      <td>2</td>\n",
       "      <td>32.23</td>\n",
       "      <td>74</td>\n",
       "      <td>77</td>\n",
       "      <td>74</td>\n",
       "      <td>74</td>\n",
       "      <td>75</td>\n",
       "    </tr>\n",
       "  </tbody>\n",
       "</table>\n",
       "</div>"
      ],
      "text/plain": [
       "       Date      Time Machine  Product Status  Roll  Material  Piece   Speed  \\\n",
       "0  2018/7/2  15:55:35   F5025  prepare     ON     1    135.08    550  434.62   \n",
       "1  2018/7/2  15:56:05   F5025  prepare     ON     1    138.60    566  441.63   \n",
       "2  2018/7/2  15:56:35   F5025  prepare     ON     1    142.34    582  427.61   \n",
       "3  2018/7/2  15:57:05   F5025  prepare     ON     1    145.86    598  427.61   \n",
       "4  2018/7/2  15:57:35   F5025  prepare     ON     1    149.60    614  434.62   \n",
       "\n",
       "    Width  Center  Trouble  Temperature  Drum1  Drum2  Drum3  Drum4  Drum5  \n",
       "0  300.28   -1.35        2        31.74     75     78     74     74     71  \n",
       "1  300.37   11.85        2        31.74     74     79     73     75     72  \n",
       "2  300.19   21.01        2        32.23     75     79     75     76     75  \n",
       "3  300.55   -3.05        2        32.23     74     78     75     76     77  \n",
       "4  300.19   18.86        2        32.23     74     77     74     74     75  "
      ]
     },
     "execution_count": 3,
     "metadata": {},
     "output_type": "execute_result"
    }
   ],
   "source": [
    "data.head()"
   ]
  },
  {
   "cell_type": "markdown",
   "metadata": {},
   "source": [
    "# Delete prepare records"
   ]
  },
  {
   "cell_type": "code",
   "execution_count": 4,
   "metadata": {},
   "outputs": [
    {
     "name": "stdout",
     "output_type": "stream",
     "text": [
      "['prepare' 'EL786' 'EL789' 'EL788' 'EL795' 'KM009' 'KM007' 'EL793' '準備中'\n",
      " 'EL787' 'FAA216' 'EL785']\n",
      "12\n"
     ]
    }
   ],
   "source": [
    "number_product = data.Product.unique()\n",
    "print(number_product)\n",
    "print(len(number_product))"
   ]
  },
  {
   "cell_type": "code",
   "execution_count": 5,
   "metadata": {},
   "outputs": [
    {
     "data": {
      "text/html": [
       "<div>\n",
       "<style scoped>\n",
       "    .dataframe tbody tr th:only-of-type {\n",
       "        vertical-align: middle;\n",
       "    }\n",
       "\n",
       "    .dataframe tbody tr th {\n",
       "        vertical-align: top;\n",
       "    }\n",
       "\n",
       "    .dataframe thead th {\n",
       "        text-align: right;\n",
       "    }\n",
       "</style>\n",
       "<table border=\"1\" class=\"dataframe\">\n",
       "  <thead>\n",
       "    <tr style=\"text-align: right;\">\n",
       "      <th></th>\n",
       "      <th>Date</th>\n",
       "      <th>Time</th>\n",
       "      <th>Machine</th>\n",
       "      <th>Product</th>\n",
       "      <th>Status</th>\n",
       "      <th>Roll</th>\n",
       "      <th>Material</th>\n",
       "      <th>Piece</th>\n",
       "      <th>Speed</th>\n",
       "      <th>Width</th>\n",
       "      <th>Center</th>\n",
       "      <th>Trouble</th>\n",
       "      <th>Temperature</th>\n",
       "      <th>Drum1</th>\n",
       "      <th>Drum2</th>\n",
       "      <th>Drum3</th>\n",
       "      <th>Drum4</th>\n",
       "      <th>Drum5</th>\n",
       "    </tr>\n",
       "  </thead>\n",
       "  <tbody>\n",
       "    <tr>\n",
       "      <td>387</td>\n",
       "      <td>2018/7/3</td>\n",
       "      <td>13:30:10</td>\n",
       "      <td>F5025</td>\n",
       "      <td>EL786</td>\n",
       "      <td>ERROR</td>\n",
       "      <td>0</td>\n",
       "      <td>0.22</td>\n",
       "      <td>0</td>\n",
       "      <td>0.00</td>\n",
       "      <td>64.20</td>\n",
       "      <td>0.00</td>\n",
       "      <td>0</td>\n",
       "      <td>28.32</td>\n",
       "      <td>74</td>\n",
       "      <td>77</td>\n",
       "      <td>73</td>\n",
       "      <td>77</td>\n",
       "      <td>73</td>\n",
       "    </tr>\n",
       "    <tr>\n",
       "      <td>388</td>\n",
       "      <td>2018/7/3</td>\n",
       "      <td>13:30:40</td>\n",
       "      <td>F5025</td>\n",
       "      <td>EL786</td>\n",
       "      <td>ON</td>\n",
       "      <td>0</td>\n",
       "      <td>1.76</td>\n",
       "      <td>0</td>\n",
       "      <td>497.71</td>\n",
       "      <td>64.20</td>\n",
       "      <td>0.00</td>\n",
       "      <td>0</td>\n",
       "      <td>28.32</td>\n",
       "      <td>75</td>\n",
       "      <td>78</td>\n",
       "      <td>72</td>\n",
       "      <td>75</td>\n",
       "      <td>71</td>\n",
       "    </tr>\n",
       "    <tr>\n",
       "      <td>389</td>\n",
       "      <td>2018/7/3</td>\n",
       "      <td>13:31:10</td>\n",
       "      <td>F5025</td>\n",
       "      <td>EL786</td>\n",
       "      <td>ON</td>\n",
       "      <td>0</td>\n",
       "      <td>5.94</td>\n",
       "      <td>0</td>\n",
       "      <td>497.71</td>\n",
       "      <td>64.20</td>\n",
       "      <td>0.00</td>\n",
       "      <td>0</td>\n",
       "      <td>27.34</td>\n",
       "      <td>70</td>\n",
       "      <td>75</td>\n",
       "      <td>72</td>\n",
       "      <td>76</td>\n",
       "      <td>77</td>\n",
       "    </tr>\n",
       "    <tr>\n",
       "      <td>390</td>\n",
       "      <td>2018/7/3</td>\n",
       "      <td>13:31:40</td>\n",
       "      <td>F5025</td>\n",
       "      <td>EL786</td>\n",
       "      <td>ON</td>\n",
       "      <td>0</td>\n",
       "      <td>9.90</td>\n",
       "      <td>0</td>\n",
       "      <td>490.70</td>\n",
       "      <td>259.96</td>\n",
       "      <td>0.90</td>\n",
       "      <td>0</td>\n",
       "      <td>26.86</td>\n",
       "      <td>76</td>\n",
       "      <td>79</td>\n",
       "      <td>74</td>\n",
       "      <td>80</td>\n",
       "      <td>68</td>\n",
       "    </tr>\n",
       "    <tr>\n",
       "      <td>391</td>\n",
       "      <td>2018/7/3</td>\n",
       "      <td>13:32:10</td>\n",
       "      <td>F5025</td>\n",
       "      <td>EL786</td>\n",
       "      <td>ON</td>\n",
       "      <td>0</td>\n",
       "      <td>13.64</td>\n",
       "      <td>0</td>\n",
       "      <td>427.61</td>\n",
       "      <td>262.84</td>\n",
       "      <td>27.66</td>\n",
       "      <td>0</td>\n",
       "      <td>28.81</td>\n",
       "      <td>75</td>\n",
       "      <td>78</td>\n",
       "      <td>72</td>\n",
       "      <td>72</td>\n",
       "      <td>69</td>\n",
       "    </tr>\n",
       "  </tbody>\n",
       "</table>\n",
       "</div>"
      ],
      "text/plain": [
       "         Date      Time Machine Product Status  Roll  Material  Piece   Speed  \\\n",
       "387  2018/7/3  13:30:10   F5025   EL786  ERROR     0      0.22      0    0.00   \n",
       "388  2018/7/3  13:30:40   F5025   EL786     ON     0      1.76      0  497.71   \n",
       "389  2018/7/3  13:31:10   F5025   EL786     ON     0      5.94      0  497.71   \n",
       "390  2018/7/3  13:31:40   F5025   EL786     ON     0      9.90      0  490.70   \n",
       "391  2018/7/3  13:32:10   F5025   EL786     ON     0     13.64      0  427.61   \n",
       "\n",
       "      Width  Center  Trouble  Temperature  Drum1  Drum2  Drum3  Drum4  Drum5  \n",
       "387   64.20    0.00        0        28.32     74     77     73     77     73  \n",
       "388   64.20    0.00        0        28.32     75     78     72     75     71  \n",
       "389   64.20    0.00        0        27.34     70     75     72     76     77  \n",
       "390  259.96    0.90        0        26.86     76     79     74     80     68  \n",
       "391  262.84   27.66        0        28.81     75     78     72     72     69  "
      ]
     },
     "execution_count": 5,
     "metadata": {},
     "output_type": "execute_result"
    }
   ],
   "source": [
    "data.drop(data.index[data.Product == 'prepare'], inplace=True)\n",
    "data.drop(data.index[data.Product == '準備中'], inplace=True)\n",
    "data.head()"
   ]
  },
  {
   "cell_type": "markdown",
   "metadata": {},
   "source": [
    "# Histogram"
   ]
  },
  {
   "cell_type": "code",
   "execution_count": 6,
   "metadata": {},
   "outputs": [
    {
     "data": {
      "text/plain": [
       "(array([ 643.,    0.,    0.,    0.,    0.,    0.,    0.,    0.,    0.,\n",
       "           0.,    0.,  675.,    0.,    0.,    0.,    0.,    0.,    0.,\n",
       "           0.,    0.,    0.,    0.,  784.,    0.,    0.,    0.,    0.,\n",
       "           0.,    0.,    0.,    0.,    0.,    0.,  453.,    0.,    0.,\n",
       "           0.,    0.,    0.,    0.,    0.,    0.,    0.,    0., 1217.,\n",
       "           0.,    0.,    0.,    0.,    0.,    0.,    0.,    0.,    0.,\n",
       "           0.,  503.,    0.,    0.,    0.,    0.,    0.,    0.,    0.,\n",
       "           0.,    0.,    0.,  270.,    0.,    0.,    0.,    0.,    0.,\n",
       "           0.,    0.,    0.,    0.,    0.,  181.,    0.,    0.,    0.,\n",
       "           0.,    0.,    0.,    0.,    0.,    0.,    0., 1032.,    0.,\n",
       "           0.,    0.,    0.,    0.,    0.,    0.,    0.,    0.,    0.,\n",
       "         413.]),\n",
       " array([0.  , 0.09, 0.18, 0.27, 0.36, 0.45, 0.54, 0.63, 0.72, 0.81, 0.9 ,\n",
       "        0.99, 1.08, 1.17, 1.26, 1.35, 1.44, 1.53, 1.62, 1.71, 1.8 , 1.89,\n",
       "        1.98, 2.07, 2.16, 2.25, 2.34, 2.43, 2.52, 2.61, 2.7 , 2.79, 2.88,\n",
       "        2.97, 3.06, 3.15, 3.24, 3.33, 3.42, 3.51, 3.6 , 3.69, 3.78, 3.87,\n",
       "        3.96, 4.05, 4.14, 4.23, 4.32, 4.41, 4.5 , 4.59, 4.68, 4.77, 4.86,\n",
       "        4.95, 5.04, 5.13, 5.22, 5.31, 5.4 , 5.49, 5.58, 5.67, 5.76, 5.85,\n",
       "        5.94, 6.03, 6.12, 6.21, 6.3 , 6.39, 6.48, 6.57, 6.66, 6.75, 6.84,\n",
       "        6.93, 7.02, 7.11, 7.2 , 7.29, 7.38, 7.47, 7.56, 7.65, 7.74, 7.83,\n",
       "        7.92, 8.01, 8.1 , 8.19, 8.28, 8.37, 8.46, 8.55, 8.64, 8.73, 8.82,\n",
       "        8.91, 9.  ]),\n",
       " <a list of 100 Patch objects>)"
      ]
     },
     "execution_count": 6,
     "metadata": {},
     "output_type": "execute_result"
    },
    {
     "data": {
      "image/png": "[encoded data removed]",
      "text/plain": [
       "<Figure size 432x288 with 1 Axes>"
      ]
     },
     "metadata": {
      "needs_background": "light"
     },
     "output_type": "display_data"
    }
   ],
   "source": [
    "#Productのヒストグラム\n",
    "plt.title('product of hist')\n",
    "plt.hist(data.Product,bins=100)"
   ]
  },
  {
   "cell_type": "code",
   "execution_count": 7,
   "metadata": {},
   "outputs": [
    {
     "data": {
      "text/plain": [
       "(array([1.000e+00, 0.000e+00, 0.000e+00, 0.000e+00, 0.000e+00, 1.000e+00,\n",
       "        1.000e+00, 0.000e+00, 1.000e+00, 2.000e+00, 1.000e+00, 1.000e+00,\n",
       "        0.000e+00, 0.000e+00, 1.000e+00, 0.000e+00, 0.000e+00, 0.000e+00,\n",
       "        0.000e+00, 0.000e+00, 0.000e+00, 3.000e+00, 1.308e+03, 2.000e+00,\n",
       "        0.000e+00, 1.000e+00, 0.000e+00, 1.000e+00, 0.000e+00, 0.000e+00,\n",
       "        0.000e+00, 0.000e+00, 0.000e+00, 0.000e+00, 1.000e+00, 0.000e+00,\n",
       "        0.000e+00, 0.000e+00, 2.000e+00, 0.000e+00, 0.000e+00, 0.000e+00,\n",
       "        0.000e+00, 1.000e+00, 0.000e+00, 1.000e+00, 0.000e+00, 0.000e+00,\n",
       "        0.000e+00, 0.000e+00, 1.000e+00, 0.000e+00, 1.000e+00, 1.000e+00,\n",
       "        0.000e+00, 0.000e+00, 1.000e+00, 0.000e+00, 0.000e+00, 0.000e+00,\n",
       "        1.000e+00, 1.000e+00, 0.000e+00, 0.000e+00, 2.000e+00, 0.000e+00,\n",
       "        0.000e+00, 1.000e+00, 1.000e+00, 3.000e+00, 1.000e+00, 2.000e+00,\n",
       "        2.000e+00, 2.000e+00, 0.000e+00, 6.000e+00, 1.000e+00, 5.000e+00,\n",
       "        1.330e+02, 8.300e+01, 1.300e+02, 6.120e+02, 1.073e+03, 3.090e+02,\n",
       "        2.900e+01, 1.400e+01, 1.500e+01, 4.000e+00, 2.800e+01, 9.430e+02,\n",
       "        1.368e+03, 2.000e+01, 3.000e+00, 5.000e+00, 1.000e+00, 5.000e+00,\n",
       "        1.000e+00, 1.000e+01, 1.600e+01, 8.000e+00]),\n",
       " array([-147.21  , -140.7608, -134.3116, -127.8624, -121.4132, -114.964 ,\n",
       "        -108.5148, -102.0656,  -95.6164,  -89.1672,  -82.718 ,  -76.2688,\n",
       "         -69.8196,  -63.3704,  -56.9212,  -50.472 ,  -44.0228,  -37.5736,\n",
       "         -31.1244,  -24.6752,  -18.226 ,  -11.7768,   -5.3276,    1.1216,\n",
       "           7.5708,   14.02  ,   20.4692,   26.9184,   33.3676,   39.8168,\n",
       "          46.266 ,   52.7152,   59.1644,   65.6136,   72.0628,   78.512 ,\n",
       "          84.9612,   91.4104,   97.8596,  104.3088,  110.758 ,  117.2072,\n",
       "         123.6564,  130.1056,  136.5548,  143.004 ,  149.4532,  155.9024,\n",
       "         162.3516,  168.8008,  175.25  ,  181.6992,  188.1484,  194.5976,\n",
       "         201.0468,  207.496 ,  213.9452,  220.3944,  226.8436,  233.2928,\n",
       "         239.742 ,  246.1912,  252.6404,  259.0896,  265.5388,  271.988 ,\n",
       "         278.4372,  284.8864,  291.3356,  297.7848,  304.234 ,  310.6832,\n",
       "         317.1324,  323.5816,  330.0308,  336.48  ,  342.9292,  349.3784,\n",
       "         355.8276,  362.2768,  368.726 ,  375.1752,  381.6244,  388.0736,\n",
       "         394.5228,  400.972 ,  407.4212,  413.8704,  420.3196,  426.7688,\n",
       "         433.218 ,  439.6672,  446.1164,  452.5656,  459.0148,  465.464 ,\n",
       "         471.9132,  478.3624,  484.8116,  491.2608,  497.71  ]),\n",
       " <a list of 100 Patch objects>)"
      ]
     },
     "execution_count": 7,
     "metadata": {},
     "output_type": "execute_result"
    },
    {
     "data": {
      "image/png": "[encoded data removed]",
      "text/plain": [
       "<Figure size 432x288 with 1 Axes>"
      ]
     },
     "metadata": {
      "needs_background": "light"
     },
     "output_type": "display_data"
    }
   ],
   "source": [
    "# Speedのヒストグラムです。\n",
    "plt.title('speed of hist')\n",
    "plt.hist(data.Speed,bins=100)"
   ]
  },
  {
   "cell_type": "code",
   "execution_count": 8,
   "metadata": {},
   "outputs": [
    {
     "data": {
      "text/plain": [
       "(array([  1.,   0.,   0.,   0.,   1.,   0.,   0.,   0.,   0.,   0.,   0.,\n",
       "          1.,   0.,   0.,   0.,   0.,   2.,   0.,   1.,   0.,   9.,   0.,\n",
       "         13.,  11.,   3.,   8.,   7.,  46.,  14.,  28.,  23.,  16.,  31.,\n",
       "         33.,  40.,  74.,  83.,  81.,  73.,  88., 165., 113., 177., 184.,\n",
       "        237., 346., 311., 284., 289., 371., 398., 269., 241., 426., 496.,\n",
       "        582., 162.,  99.,  88.,  48.,  30.,  38.,  41.,  26.,   7.,  12.,\n",
       "          3.,  11.,   3.,   5.,   3.,   1.,   0.,   1.,   0.,   2.,   2.,\n",
       "          1.,   0.,   1.,   0.,   0.,   2.,   0.,   1.,   0.,   0.,   2.,\n",
       "          1.,   1.,   1.,   0.,   0.,   0.,   0.,   1.,   0.,   0.,   0.,\n",
       "          2.]),\n",
       " array([-96.45  , -94.6881, -92.9262, -91.1643, -89.4024, -87.6405,\n",
       "        -85.8786, -84.1167, -82.3548, -80.5929, -78.831 , -77.0691,\n",
       "        -75.3072, -73.5453, -71.7834, -70.0215, -68.2596, -66.4977,\n",
       "        -64.7358, -62.9739, -61.212 , -59.4501, -57.6882, -55.9263,\n",
       "        -54.1644, -52.4025, -50.6406, -48.8787, -47.1168, -45.3549,\n",
       "        -43.593 , -41.8311, -40.0692, -38.3073, -36.5454, -34.7835,\n",
       "        -33.0216, -31.2597, -29.4978, -27.7359, -25.974 , -24.2121,\n",
       "        -22.4502, -20.6883, -18.9264, -17.1645, -15.4026, -13.6407,\n",
       "        -11.8788, -10.1169,  -8.355 ,  -6.5931,  -4.8312,  -3.0693,\n",
       "         -1.3074,   0.4545,   2.2164,   3.9783,   5.7402,   7.5021,\n",
       "          9.264 ,  11.0259,  12.7878,  14.5497,  16.3116,  18.0735,\n",
       "         19.8354,  21.5973,  23.3592,  25.1211,  26.883 ,  28.6449,\n",
       "         30.4068,  32.1687,  33.9306,  35.6925,  37.4544,  39.2163,\n",
       "         40.9782,  42.7401,  44.502 ,  46.2639,  48.0258,  49.7877,\n",
       "         51.5496,  53.3115,  55.0734,  56.8353,  58.5972,  60.3591,\n",
       "         62.121 ,  63.8829,  65.6448,  67.4067,  69.1686,  70.9305,\n",
       "         72.6924,  74.4543,  76.2162,  77.9781,  79.74  ]),\n",
       " <a list of 100 Patch objects>)"
      ]
     },
     "execution_count": 8,
     "metadata": {},
     "output_type": "execute_result"
    },
    {
     "data": {
      "image/png": "[encoded data removed]",
      "text/plain": [
       "<Figure size 432x288 with 1 Axes>"
      ]
     },
     "metadata": {
      "needs_background": "light"
     },
     "output_type": "display_data"
    }
   ],
   "source": [
    "# センターずれのヒストグラムです。 \n",
    "plt.title('center of hist')\n",
    "plt.hist(data.Center,bins=100)"
   ]
  },
  {
   "cell_type": "code",
   "execution_count": 9,
   "metadata": {},
   "outputs": [
    {
     "data": {
      "text/plain": [
       "(array([  2.,   0.,   0.,   8.,   0.,   0.,   0.,  64.,   0.,   0.,   0.,\n",
       "        121.,   0.,   0., 143.,   0.,   0.,   0., 235.,   0.,   0.,   0.,\n",
       "        452.,   0.,   0., 509.,   0.,   0.,   0., 430.,   0.,   0.,   0.,\n",
       "        506.,   0.,   0.,   0., 564.,   0.,   0., 579.,   0.,   0.,   0.,\n",
       "        679.,   0.,   0.,   0., 427.,   0.,   0., 323.,   0.,   0.,   0.,\n",
       "        249.,   0.,   0.,   0., 199.,   0.,   0., 136.,   0.,   0.,   0.,\n",
       "         87.,   0.,   0.,   0.,  79.,   0.,   0.,   0., 121.,   0.,   0.,\n",
       "        192.,   0.,   0.,   0.,  54.,   0.,   0.,   0.,   5.,   0.,   0.,\n",
       "          0.,   0.,   0.,   0.,   3.,   0.,   0.,   0.,   2.,   0.,   0.,\n",
       "          2.]),\n",
       " array([25.39  , 25.5218, 25.6536, 25.7854, 25.9172, 26.049 , 26.1808,\n",
       "        26.3126, 26.4444, 26.5762, 26.708 , 26.8398, 26.9716, 27.1034,\n",
       "        27.2352, 27.367 , 27.4988, 27.6306, 27.7624, 27.8942, 28.026 ,\n",
       "        28.1578, 28.2896, 28.4214, 28.5532, 28.685 , 28.8168, 28.9486,\n",
       "        29.0804, 29.2122, 29.344 , 29.4758, 29.6076, 29.7394, 29.8712,\n",
       "        30.003 , 30.1348, 30.2666, 30.3984, 30.5302, 30.662 , 30.7938,\n",
       "        30.9256, 31.0574, 31.1892, 31.321 , 31.4528, 31.5846, 31.7164,\n",
       "        31.8482, 31.98  , 32.1118, 32.2436, 32.3754, 32.5072, 32.639 ,\n",
       "        32.7708, 32.9026, 33.0344, 33.1662, 33.298 , 33.4298, 33.5616,\n",
       "        33.6934, 33.8252, 33.957 , 34.0888, 34.2206, 34.3524, 34.4842,\n",
       "        34.616 , 34.7478, 34.8796, 35.0114, 35.1432, 35.275 , 35.4068,\n",
       "        35.5386, 35.6704, 35.8022, 35.934 , 36.0658, 36.1976, 36.3294,\n",
       "        36.4612, 36.593 , 36.7248, 36.8566, 36.9884, 37.1202, 37.252 ,\n",
       "        37.3838, 37.5156, 37.6474, 37.7792, 37.911 , 38.0428, 38.1746,\n",
       "        38.3064, 38.4382, 38.57  ]),\n",
       " <a list of 100 Patch objects>)"
      ]
     },
     "execution_count": 9,
     "metadata": {},
     "output_type": "execute_result"
    },
    {
     "data": {
      "image/png": "[encoded data removed]",
      "text/plain": [
       "<Figure size 432x288 with 1 Axes>"
      ]
     },
     "metadata": {
      "needs_background": "light"
     },
     "output_type": "display_data"
    }
   ],
   "source": [
    "# 室内温度のヒストグラムです。\n",
    "plt.title('temperatur of hist')\n",
    "plt.hist(data.Temperature,bins=100)"
   ]
  },
  {
   "cell_type": "code",
   "execution_count": 10,
   "metadata": {},
   "outputs": [
    {
     "data": {
      "text/plain": [
       "(array([2.000e+00, 0.000e+00, 0.000e+00, 1.000e+00, 0.000e+00, 0.000e+00,\n",
       "        0.000e+00, 4.000e+00, 0.000e+00, 0.000e+00, 0.000e+00, 2.000e+00,\n",
       "        0.000e+00, 0.000e+00, 9.000e+00, 0.000e+00, 0.000e+00, 0.000e+00,\n",
       "        5.000e+00, 0.000e+00, 0.000e+00, 0.000e+00, 3.000e+00, 0.000e+00,\n",
       "        0.000e+00, 2.000e+00, 0.000e+00, 0.000e+00, 0.000e+00, 2.000e+00,\n",
       "        0.000e+00, 0.000e+00, 0.000e+00, 4.000e+00, 0.000e+00, 0.000e+00,\n",
       "        0.000e+00, 7.000e+00, 0.000e+00, 0.000e+00, 1.300e+01, 0.000e+00,\n",
       "        0.000e+00, 0.000e+00, 5.300e+01, 0.000e+00, 0.000e+00, 0.000e+00,\n",
       "        1.620e+02, 0.000e+00, 0.000e+00, 3.550e+02, 0.000e+00, 0.000e+00,\n",
       "        0.000e+00, 6.530e+02, 0.000e+00, 0.000e+00, 0.000e+00, 8.780e+02,\n",
       "        0.000e+00, 0.000e+00, 1.042e+03, 0.000e+00, 0.000e+00, 0.000e+00,\n",
       "        1.090e+03, 0.000e+00, 0.000e+00, 0.000e+00, 1.004e+03, 0.000e+00,\n",
       "        0.000e+00, 0.000e+00, 5.260e+02, 0.000e+00, 0.000e+00, 2.480e+02,\n",
       "        0.000e+00, 0.000e+00, 0.000e+00, 7.900e+01, 0.000e+00, 0.000e+00,\n",
       "        0.000e+00, 2.400e+01, 0.000e+00, 0.000e+00, 2.000e+00, 0.000e+00,\n",
       "        0.000e+00, 0.000e+00, 0.000e+00, 0.000e+00, 0.000e+00, 0.000e+00,\n",
       "        0.000e+00, 0.000e+00, 0.000e+00, 1.000e+00]),\n",
       " array([56.  , 56.27, 56.54, 56.81, 57.08, 57.35, 57.62, 57.89, 58.16,\n",
       "        58.43, 58.7 , 58.97, 59.24, 59.51, 59.78, 60.05, 60.32, 60.59,\n",
       "        60.86, 61.13, 61.4 , 61.67, 61.94, 62.21, 62.48, 62.75, 63.02,\n",
       "        63.29, 63.56, 63.83, 64.1 , 64.37, 64.64, 64.91, 65.18, 65.45,\n",
       "        65.72, 65.99, 66.26, 66.53, 66.8 , 67.07, 67.34, 67.61, 67.88,\n",
       "        68.15, 68.42, 68.69, 68.96, 69.23, 69.5 , 69.77, 70.04, 70.31,\n",
       "        70.58, 70.85, 71.12, 71.39, 71.66, 71.93, 72.2 , 72.47, 72.74,\n",
       "        73.01, 73.28, 73.55, 73.82, 74.09, 74.36, 74.63, 74.9 , 75.17,\n",
       "        75.44, 75.71, 75.98, 76.25, 76.52, 76.79, 77.06, 77.33, 77.6 ,\n",
       "        77.87, 78.14, 78.41, 78.68, 78.95, 79.22, 79.49, 79.76, 80.03,\n",
       "        80.3 , 80.57, 80.84, 81.11, 81.38, 81.65, 81.92, 82.19, 82.46,\n",
       "        82.73, 83.  ]),\n",
       " <a list of 100 Patch objects>)"
      ]
     },
     "execution_count": 10,
     "metadata": {},
     "output_type": "execute_result"
    },
    {
     "data": {
      "image/png": "[encoded data removed]",
      "text/plain": [
       "<Figure size 432x288 with 1 Axes>"
      ]
     },
     "metadata": {
      "needs_background": "light"
     },
     "output_type": "display_data"
    }
   ],
   "source": [
    "# Drum1のヒストグラムです。 \n",
    "plt.title('drum1 of hist')\n",
    "plt.hist(data.Drum1,bins=100)"
   ]
  },
  {
   "cell_type": "code",
   "execution_count": 11,
   "metadata": {},
   "outputs": [
    {
     "data": {
      "text/plain": [
       "(array([1.000e+00, 0.000e+00, 0.000e+00, 2.000e+00, 0.000e+00, 0.000e+00,\n",
       "        0.000e+00, 0.000e+00, 0.000e+00, 0.000e+00, 0.000e+00, 3.000e+00,\n",
       "        0.000e+00, 0.000e+00, 4.000e+00, 0.000e+00, 0.000e+00, 0.000e+00,\n",
       "        5.000e+00, 0.000e+00, 0.000e+00, 0.000e+00, 4.000e+00, 0.000e+00,\n",
       "        0.000e+00, 2.000e+00, 0.000e+00, 0.000e+00, 0.000e+00, 3.000e+00,\n",
       "        0.000e+00, 0.000e+00, 0.000e+00, 6.000e+00, 0.000e+00, 0.000e+00,\n",
       "        0.000e+00, 5.000e+00, 0.000e+00, 0.000e+00, 4.000e+00, 0.000e+00,\n",
       "        0.000e+00, 0.000e+00, 1.000e+01, 0.000e+00, 0.000e+00, 0.000e+00,\n",
       "        1.900e+01, 0.000e+00, 0.000e+00, 5.300e+01, 0.000e+00, 0.000e+00,\n",
       "        0.000e+00, 1.690e+02, 0.000e+00, 0.000e+00, 0.000e+00, 4.430e+02,\n",
       "        0.000e+00, 0.000e+00, 7.490e+02, 0.000e+00, 0.000e+00, 0.000e+00,\n",
       "        1.194e+03, 0.000e+00, 0.000e+00, 0.000e+00, 9.080e+02, 0.000e+00,\n",
       "        0.000e+00, 0.000e+00, 9.150e+02, 0.000e+00, 0.000e+00, 8.200e+02,\n",
       "        0.000e+00, 0.000e+00, 0.000e+00, 5.130e+02, 0.000e+00, 0.000e+00,\n",
       "        0.000e+00, 2.700e+02, 0.000e+00, 0.000e+00, 5.600e+01, 0.000e+00,\n",
       "        0.000e+00, 0.000e+00, 7.000e+00, 0.000e+00, 0.000e+00, 0.000e+00,\n",
       "        4.000e+00, 0.000e+00, 0.000e+00, 2.000e+00]),\n",
       " array([57.  , 57.27, 57.54, 57.81, 58.08, 58.35, 58.62, 58.89, 59.16,\n",
       "        59.43, 59.7 , 59.97, 60.24, 60.51, 60.78, 61.05, 61.32, 61.59,\n",
       "        61.86, 62.13, 62.4 , 62.67, 62.94, 63.21, 63.48, 63.75, 64.02,\n",
       "        64.29, 64.56, 64.83, 65.1 , 65.37, 65.64, 65.91, 66.18, 66.45,\n",
       "        66.72, 66.99, 67.26, 67.53, 67.8 , 68.07, 68.34, 68.61, 68.88,\n",
       "        69.15, 69.42, 69.69, 69.96, 70.23, 70.5 , 70.77, 71.04, 71.31,\n",
       "        71.58, 71.85, 72.12, 72.39, 72.66, 72.93, 73.2 , 73.47, 73.74,\n",
       "        74.01, 74.28, 74.55, 74.82, 75.09, 75.36, 75.63, 75.9 , 76.17,\n",
       "        76.44, 76.71, 76.98, 77.25, 77.52, 77.79, 78.06, 78.33, 78.6 ,\n",
       "        78.87, 79.14, 79.41, 79.68, 79.95, 80.22, 80.49, 80.76, 81.03,\n",
       "        81.3 , 81.57, 81.84, 82.11, 82.38, 82.65, 82.92, 83.19, 83.46,\n",
       "        83.73, 84.  ]),\n",
       " <a list of 100 Patch objects>)"
      ]
     },
     "execution_count": 11,
     "metadata": {},
     "output_type": "execute_result"
    },
    {
     "data": {
      "image/png": "[encoded data removed]",
      "text/plain": [
       "<Figure size 432x288 with 1 Axes>"
      ]
     },
     "metadata": {
      "needs_background": "light"
     },
     "output_type": "display_data"
    }
   ],
   "source": [
    "# Drum2のヒストグラムです。 \n",
    "plt.title('drum2 of hist')\n",
    "plt.hist(data.Drum2,bins=100)"
   ]
  },
  {
   "cell_type": "code",
   "execution_count": 12,
   "metadata": {},
   "outputs": [
    {
     "data": {
      "text/plain": [
       "(array([1.000e+00, 0.000e+00, 0.000e+00, 0.000e+00, 3.000e+00, 0.000e+00,\n",
       "        0.000e+00, 0.000e+00, 4.000e+00, 0.000e+00, 0.000e+00, 0.000e+00,\n",
       "        5.000e+00, 0.000e+00, 0.000e+00, 0.000e+00, 4.000e+00, 0.000e+00,\n",
       "        0.000e+00, 0.000e+00, 3.000e+00, 0.000e+00, 0.000e+00, 0.000e+00,\n",
       "        3.000e+00, 0.000e+00, 0.000e+00, 0.000e+00, 7.000e+00, 0.000e+00,\n",
       "        0.000e+00, 0.000e+00, 3.000e+00, 0.000e+00, 0.000e+00, 0.000e+00,\n",
       "        7.000e+00, 0.000e+00, 0.000e+00, 0.000e+00, 1.300e+01, 0.000e+00,\n",
       "        0.000e+00, 0.000e+00, 4.100e+01, 0.000e+00, 0.000e+00, 0.000e+00,\n",
       "        1.000e+02, 0.000e+00, 0.000e+00, 0.000e+00, 2.050e+02, 0.000e+00,\n",
       "        0.000e+00, 0.000e+00, 5.500e+02, 0.000e+00, 0.000e+00, 0.000e+00,\n",
       "        8.310e+02, 0.000e+00, 0.000e+00, 0.000e+00, 1.124e+03, 0.000e+00,\n",
       "        0.000e+00, 0.000e+00, 1.110e+03, 0.000e+00, 0.000e+00, 0.000e+00,\n",
       "        8.190e+02, 0.000e+00, 0.000e+00, 0.000e+00, 5.990e+02, 0.000e+00,\n",
       "        0.000e+00, 0.000e+00, 4.240e+02, 0.000e+00, 0.000e+00, 0.000e+00,\n",
       "        1.960e+02, 0.000e+00, 0.000e+00, 0.000e+00, 7.600e+01, 0.000e+00,\n",
       "        0.000e+00, 0.000e+00, 3.100e+01, 0.000e+00, 0.000e+00, 0.000e+00,\n",
       "        1.100e+01, 0.000e+00, 0.000e+00, 1.000e+00]),\n",
       " array([55.  , 55.25, 55.5 , 55.75, 56.  , 56.25, 56.5 , 56.75, 57.  ,\n",
       "        57.25, 57.5 , 57.75, 58.  , 58.25, 58.5 , 58.75, 59.  , 59.25,\n",
       "        59.5 , 59.75, 60.  , 60.25, 60.5 , 60.75, 61.  , 61.25, 61.5 ,\n",
       "        61.75, 62.  , 62.25, 62.5 , 62.75, 63.  , 63.25, 63.5 , 63.75,\n",
       "        64.  , 64.25, 64.5 , 64.75, 65.  , 65.25, 65.5 , 65.75, 66.  ,\n",
       "        66.25, 66.5 , 66.75, 67.  , 67.25, 67.5 , 67.75, 68.  , 68.25,\n",
       "        68.5 , 68.75, 69.  , 69.25, 69.5 , 69.75, 70.  , 70.25, 70.5 ,\n",
       "        70.75, 71.  , 71.25, 71.5 , 71.75, 72.  , 72.25, 72.5 , 72.75,\n",
       "        73.  , 73.25, 73.5 , 73.75, 74.  , 74.25, 74.5 , 74.75, 75.  ,\n",
       "        75.25, 75.5 , 75.75, 76.  , 76.25, 76.5 , 76.75, 77.  , 77.25,\n",
       "        77.5 , 77.75, 78.  , 78.25, 78.5 , 78.75, 79.  , 79.25, 79.5 ,\n",
       "        79.75, 80.  ]),\n",
       " <a list of 100 Patch objects>)"
      ]
     },
     "execution_count": 12,
     "metadata": {},
     "output_type": "execute_result"
    },
    {
     "data": {
      "image/png": "[encoded data removed]",
      "text/plain": [
       "<Figure size 432x288 with 1 Axes>"
      ]
     },
     "metadata": {
      "needs_background": "light"
     },
     "output_type": "display_data"
    }
   ],
   "source": [
    "# Drum3のヒストグラムです。 \n",
    "plt.title('drum3 of hist')\n",
    "plt.hist(data.Drum3,bins=100)"
   ]
  },
  {
   "cell_type": "code",
   "execution_count": 13,
   "metadata": {},
   "outputs": [
    {
     "data": {
      "text/plain": [
       "(array([1.000e+00, 0.000e+00, 0.000e+00, 1.000e+00, 0.000e+00, 0.000e+00,\n",
       "        0.000e+00, 0.000e+00, 0.000e+00, 0.000e+00, 2.000e+00, 0.000e+00,\n",
       "        0.000e+00, 2.000e+00, 0.000e+00, 0.000e+00, 0.000e+00, 0.000e+00,\n",
       "        0.000e+00, 0.000e+00, 3.000e+00, 0.000e+00, 0.000e+00, 0.000e+00,\n",
       "        3.000e+00, 0.000e+00, 0.000e+00, 6.000e+00, 0.000e+00, 0.000e+00,\n",
       "        0.000e+00, 3.000e+00, 0.000e+00, 0.000e+00, 4.000e+00, 0.000e+00,\n",
       "        0.000e+00, 5.000e+00, 0.000e+00, 0.000e+00, 0.000e+00, 4.000e+00,\n",
       "        0.000e+00, 0.000e+00, 3.000e+00, 0.000e+00, 0.000e+00, 0.000e+00,\n",
       "        2.000e+00, 0.000e+00, 0.000e+00, 1.000e+01, 0.000e+00, 0.000e+00,\n",
       "        0.000e+00, 1.600e+01, 0.000e+00, 0.000e+00, 3.700e+01, 0.000e+00,\n",
       "        0.000e+00, 0.000e+00, 1.220e+02, 0.000e+00, 0.000e+00, 2.830e+02,\n",
       "        0.000e+00, 0.000e+00, 4.880e+02, 0.000e+00, 0.000e+00, 0.000e+00,\n",
       "        6.050e+02, 0.000e+00, 0.000e+00, 8.740e+02, 0.000e+00, 0.000e+00,\n",
       "        0.000e+00, 1.067e+03, 0.000e+00, 0.000e+00, 1.079e+03, 0.000e+00,\n",
       "        0.000e+00, 0.000e+00, 9.000e+02, 0.000e+00, 0.000e+00, 3.770e+02,\n",
       "        0.000e+00, 0.000e+00, 0.000e+00, 2.110e+02, 0.000e+00, 0.000e+00,\n",
       "        5.800e+01, 0.000e+00, 0.000e+00, 5.000e+00]),\n",
       " array([53.  , 53.29, 53.58, 53.87, 54.16, 54.45, 54.74, 55.03, 55.32,\n",
       "        55.61, 55.9 , 56.19, 56.48, 56.77, 57.06, 57.35, 57.64, 57.93,\n",
       "        58.22, 58.51, 58.8 , 59.09, 59.38, 59.67, 59.96, 60.25, 60.54,\n",
       "        60.83, 61.12, 61.41, 61.7 , 61.99, 62.28, 62.57, 62.86, 63.15,\n",
       "        63.44, 63.73, 64.02, 64.31, 64.6 , 64.89, 65.18, 65.47, 65.76,\n",
       "        66.05, 66.34, 66.63, 66.92, 67.21, 67.5 , 67.79, 68.08, 68.37,\n",
       "        68.66, 68.95, 69.24, 69.53, 69.82, 70.11, 70.4 , 70.69, 70.98,\n",
       "        71.27, 71.56, 71.85, 72.14, 72.43, 72.72, 73.01, 73.3 , 73.59,\n",
       "        73.88, 74.17, 74.46, 74.75, 75.04, 75.33, 75.62, 75.91, 76.2 ,\n",
       "        76.49, 76.78, 77.07, 77.36, 77.65, 77.94, 78.23, 78.52, 78.81,\n",
       "        79.1 , 79.39, 79.68, 79.97, 80.26, 80.55, 80.84, 81.13, 81.42,\n",
       "        81.71, 82.  ]),\n",
       " <a list of 100 Patch objects>)"
      ]
     },
     "execution_count": 13,
     "metadata": {},
     "output_type": "execute_result"
    },
    {
     "data": {
      "image/png": "[encoded data removed]",
      "text/plain": [
       "<Figure size 432x288 with 1 Axes>"
      ]
     },
     "metadata": {
      "needs_background": "light"
     },
     "output_type": "display_data"
    }
   ],
   "source": [
    "# Drum4のヒストグラムです。 \n",
    "plt.title('product4 of hist')\n",
    "plt.hist(data.Drum4,bins=100)"
   ]
  },
  {
   "cell_type": "code",
   "execution_count": 14,
   "metadata": {},
   "outputs": [
    {
     "data": {
      "text/plain": [
       "(array([  1.,   0.,   2.,   0.,   0.,   0.,   0.,   0.,   1.,   0.,   0.,\n",
       "          1.,   0.,   0.,   2.,   0.,   0.,   4.,   0.,   0.,   2.,   0.,\n",
       "          2.,   0.,   0.,   6.,   0.,   0.,   0.,   0.,   0.,   3.,   0.,\n",
       "          0.,  11.,   0.,   0.,   5.,   0.,   0.,  19.,   0.,  31.,   0.,\n",
       "          0.,  64.,   0.,   0., 134.,   0.,   0., 233.,   0.,   0., 499.,\n",
       "          0.,   0., 613.,   0.,   0., 817.,   0., 941.,   0.,   0., 939.,\n",
       "          0.,   0., 724.,   0.,   0., 548.,   0.,   0., 274.,   0.,   0.,\n",
       "        161.,   0.,   0.,  78.,   0.,  32.,   0.,   0.,  12.,   0.,   0.,\n",
       "          4.,   0.,   0.,   4.,   0.,   0.,   2.,   0.,   0.,   1.,   0.,\n",
       "          1.]),\n",
       " array([50.  , 50.35, 50.7 , 51.05, 51.4 , 51.75, 52.1 , 52.45, 52.8 ,\n",
       "        53.15, 53.5 , 53.85, 54.2 , 54.55, 54.9 , 55.25, 55.6 , 55.95,\n",
       "        56.3 , 56.65, 57.  , 57.35, 57.7 , 58.05, 58.4 , 58.75, 59.1 ,\n",
       "        59.45, 59.8 , 60.15, 60.5 , 60.85, 61.2 , 61.55, 61.9 , 62.25,\n",
       "        62.6 , 62.95, 63.3 , 63.65, 64.  , 64.35, 64.7 , 65.05, 65.4 ,\n",
       "        65.75, 66.1 , 66.45, 66.8 , 67.15, 67.5 , 67.85, 68.2 , 68.55,\n",
       "        68.9 , 69.25, 69.6 , 69.95, 70.3 , 70.65, 71.  , 71.35, 71.7 ,\n",
       "        72.05, 72.4 , 72.75, 73.1 , 73.45, 73.8 , 74.15, 74.5 , 74.85,\n",
       "        75.2 , 75.55, 75.9 , 76.25, 76.6 , 76.95, 77.3 , 77.65, 78.  ,\n",
       "        78.35, 78.7 , 79.05, 79.4 , 79.75, 80.1 , 80.45, 80.8 , 81.15,\n",
       "        81.5 , 81.85, 82.2 , 82.55, 82.9 , 83.25, 83.6 , 83.95, 84.3 ,\n",
       "        84.65, 85.  ]),\n",
       " <a list of 100 Patch objects>)"
      ]
     },
     "execution_count": 14,
     "metadata": {},
     "output_type": "execute_result"
    },
    {
     "data": {
      "image/png": "[encoded data removed]",
      "text/plain": [
       "<Figure size 432x288 with 1 Axes>"
      ]
     },
     "metadata": {
      "needs_background": "light"
     },
     "output_type": "display_data"
    }
   ],
   "source": [
    "# Drum1のヒストグラムです。 \n",
    "plt.title('drum5 of hist')\n",
    "plt.hist(data.Drum5,bins=100)"
   ]
  },
  {
   "cell_type": "markdown",
   "metadata": {},
   "source": [
    "# Error Analysis"
   ]
  },
  {
   "cell_type": "code",
   "execution_count": 15,
   "metadata": {},
   "outputs": [
    {
     "name": "stdout",
     "output_type": "stream",
     "text": [
      "343\n"
     ]
    }
   ],
   "source": [
    "data_ON = data.copy()\n",
    "data_ERROR = data.copy()\n",
    "data_ON.drop(data_ON.index[data.Status == 'ERROR'], inplace=True)\n",
    "data_ERROR.drop(data_ERROR.index[data.Status == 'ON'], inplace=True)\n",
    "data_ERROR.Status.unique()\n",
    "error_times = data_ERROR.shape[0]\n",
    "print(error_times)"
   ]
  },
  {
   "cell_type": "code",
   "execution_count": 16,
   "metadata": {},
   "outputs": [],
   "source": [
    "data_ON.Status.unique()\n",
    "on_times = data_ON.shape[0]"
   ]
  },
  {
   "cell_type": "markdown",
   "metadata": {},
   "source": [
    "# Error rate"
   ]
  },
  {
   "cell_type": "code",
   "execution_count": 17,
   "metadata": {},
   "outputs": [
    {
     "data": {
      "text/plain": [
       "([<matplotlib.patches.Wedge at 0x20098ecbc08>,\n",
       "  <matplotlib.patches.Wedge at 0x20098ed2708>],\n",
       " [Text(1.083272316856295, 0.19110491237222235, ''),\n",
       "  Text(-1.0832723280391265, -0.19110484898267568, '')],\n",
       " [Text(0.5908758091943427, 0.10423904311212127, '5.6%'),\n",
       "  Text(-0.590875815294069, -0.1042390085360049, '94.4%')])"
      ]
     },
     "execution_count": 17,
     "metadata": {},
     "output_type": "execute_result"
    },
    {
     "data": {
      "image/png": "[encoded data removed]",
      "text/plain": [
       "<Figure size 432x288 with 1 Axes>"
      ]
     },
     "metadata": {},
     "output_type": "display_data"
    }
   ],
   "source": [
    "x = np.array([error_times, on_times])\n",
    "plt.title('error rate')\n",
    "plt.pie(x,autopct=\"%1.1f%%\")"
   ]
  },
  {
   "cell_type": "code",
   "execution_count": 18,
   "metadata": {},
   "outputs": [
    {
     "data": {
      "text/plain": [
       "(array([ 44.,   0.,   0.,   0.,   0.,   0.,   0.,   0.,   0.,   0.,   0.,\n",
       "          0.,   4.,   0.,   0.,   0.,   0.,   0.,   0.,   0.,   0.,   0.,\n",
       "          0.,   0.,   0.,  11.,   0.,   0.,   0.,   0.,   0.,   0.,   0.,\n",
       "          0.,   0.,   0.,   0.,  40.,   0.,   0.,   0.,   0.,   0.,   0.,\n",
       "          0.,   0.,   0.,   0.,   0.,   0.,  21.,   0.,   0.,   0.,   0.,\n",
       "          0.,   0.,   0.,   0.,   0.,   0.,   0., 187.,   0.,   0.,   0.,\n",
       "          0.,   0.,   0.,   0.,   0.,   0.,   0.,   0.,   0.,  14.,   0.,\n",
       "          0.,   0.,   0.,   0.,   0.,   0.,   0.,   0.,   0.,   0.,  14.,\n",
       "          0.,   0.,   0.,   0.,   0.,   0.,   0.,   0.,   0.,   0.,   0.,\n",
       "          8.]),\n",
       " array([0.  , 0.08, 0.16, 0.24, 0.32, 0.4 , 0.48, 0.56, 0.64, 0.72, 0.8 ,\n",
       "        0.88, 0.96, 1.04, 1.12, 1.2 , 1.28, 1.36, 1.44, 1.52, 1.6 , 1.68,\n",
       "        1.76, 1.84, 1.92, 2.  , 2.08, 2.16, 2.24, 2.32, 2.4 , 2.48, 2.56,\n",
       "        2.64, 2.72, 2.8 , 2.88, 2.96, 3.04, 3.12, 3.2 , 3.28, 3.36, 3.44,\n",
       "        3.52, 3.6 , 3.68, 3.76, 3.84, 3.92, 4.  , 4.08, 4.16, 4.24, 4.32,\n",
       "        4.4 , 4.48, 4.56, 4.64, 4.72, 4.8 , 4.88, 4.96, 5.04, 5.12, 5.2 ,\n",
       "        5.28, 5.36, 5.44, 5.52, 5.6 , 5.68, 5.76, 5.84, 5.92, 6.  , 6.08,\n",
       "        6.16, 6.24, 6.32, 6.4 , 6.48, 6.56, 6.64, 6.72, 6.8 , 6.88, 6.96,\n",
       "        7.04, 7.12, 7.2 , 7.28, 7.36, 7.44, 7.52, 7.6 , 7.68, 7.76, 7.84,\n",
       "        7.92, 8.  ]),\n",
       " <a list of 100 Patch objects>)"
      ]
     },
     "execution_count": 18,
     "metadata": {},
     "output_type": "execute_result"
    },
    {
     "data": {
      "image/png": "[encoded data removed]",
      "text/plain": [
       "<Figure size 432x288 with 1 Axes>"
      ]
     },
     "metadata": {
      "needs_background": "light"
     },
     "output_type": "display_data"
    }
   ],
   "source": [
    "#Product ヒストグラム\n",
    "plt.title(\"Product Histogram\")\n",
    "plt.ylabel(\"error times\")\n",
    "plt.hist(data_ERROR.Product,bins=100)"
   ]
  },
  {
   "cell_type": "code",
   "execution_count": 19,
   "metadata": {},
   "outputs": [
    {
     "data": {
      "text/plain": [
       "(array([  1.,   0.,   0.,   0.,   0.,   0.,   0.,   0.,   0.,   1.,   0.,\n",
       "        328.,   1.,   0.,   0.,   0.,   0.,   0.,   0.,   0.,   0.,   0.,\n",
       "          0.,   0.,   0.,   0.,   0.,   0.,   0.,   0.,   0.,   0.,   0.,\n",
       "          0.,   0.,   0.,   0.,   0.,   0.,   0.,   0.,   0.,   0.,   0.,\n",
       "          0.,   0.,   0.,   0.,   0.,   0.,   0.,   0.,   0.,   0.,   0.,\n",
       "          0.,   0.,   0.,   0.,   0.,   0.,   0.,   0.,   0.,   0.,   0.,\n",
       "          0.,   0.,   0.,   0.,   0.,   0.,   0.,   0.,   0.,   0.,   0.,\n",
       "          0.,   0.,   0.,   0.,   0.,   0.,   0.,   0.,   0.,   0.,   1.,\n",
       "          1.,   1.,   2.,   0.,   0.,   0.,   0.,   0.,   0.,   0.,   3.,\n",
       "          4.]),\n",
       " array([-56.08 , -51.173, -46.266, -41.359, -36.452, -31.545, -26.638,\n",
       "        -21.731, -16.824, -11.917,  -7.01 ,  -2.103,   2.804,   7.711,\n",
       "         12.618,  17.525,  22.432,  27.339,  32.246,  37.153,  42.06 ,\n",
       "         46.967,  51.874,  56.781,  61.688,  66.595,  71.502,  76.409,\n",
       "         81.316,  86.223,  91.13 ,  96.037, 100.944, 105.851, 110.758,\n",
       "        115.665, 120.572, 125.479, 130.386, 135.293, 140.2  , 145.107,\n",
       "        150.014, 154.921, 159.828, 164.735, 169.642, 174.549, 179.456,\n",
       "        184.363, 189.27 , 194.177, 199.084, 203.991, 208.898, 213.805,\n",
       "        218.712, 223.619, 228.526, 233.433, 238.34 , 243.247, 248.154,\n",
       "        253.061, 257.968, 262.875, 267.782, 272.689, 277.596, 282.503,\n",
       "        287.41 , 292.317, 297.224, 302.131, 307.038, 311.945, 316.852,\n",
       "        321.759, 326.666, 331.573, 336.48 , 341.387, 346.294, 351.201,\n",
       "        356.108, 361.015, 365.922, 370.829, 375.736, 380.643, 385.55 ,\n",
       "        390.457, 395.364, 400.271, 405.178, 410.085, 414.992, 419.899,\n",
       "        424.806, 429.713, 434.62 ]),\n",
       " <a list of 100 Patch objects>)"
      ]
     },
     "execution_count": 19,
     "metadata": {},
     "output_type": "execute_result"
    },
    {
     "data": {
      "image/png": "[encoded data removed]",
      "text/plain": [
       "<Figure size 432x288 with 1 Axes>"
      ]
     },
     "metadata": {
      "needs_background": "light"
     },
     "output_type": "display_data"
    }
   ],
   "source": [
    "plt.title(\"Speed Histogram\")\n",
    "plt.ylabel(\"error times\")\n",
    "plt.hist(data_ERROR.Speed,bins=100)"
   ]
  },
  {
   "cell_type": "code",
   "execution_count": 20,
   "metadata": {},
   "outputs": [
    {
     "data": {
      "text/plain": [
       "(array([ 35.,   0.,   0.,   0.,   0.,   0.,   0.,   0.,   0.,   0.,   1.,\n",
       "          0.,   0.,   0.,   0.,   0.,   0.,   0.,   0.,   0.,   0.,   0.,\n",
       "          0.,   0.,   0.,   0.,   0.,   0.,   0.,   0.,   0.,   0.,   0.,\n",
       "          0.,   0.,   0.,   0.,   0.,   0.,   0.,   0.,   0.,   0.,   0.,\n",
       "          0.,   0.,   0.,   0.,   0.,   0.,   0.,   0.,   0.,   0.,  14.,\n",
       "         49.,   0.,   0.,   0.,   0.,   1.,   0.,   0.,   0.,   0.,   0.,\n",
       "          0.,   0.,   0.,   0.,   0.,  21.,   0.,   0.,  14.,   0.,   0.,\n",
       "          0.,   0.,   0.,   0.,   0.,   0.,   1.,   0.,   7.,   0.,   8.,\n",
       "        136.,  17.,   0.,   0.,   0.,   0.,   0.,   0.,   0.,   0.,   0.,\n",
       "         39.]),\n",
       " array([ 64.11  ,  67.6607,  71.2114,  74.7621,  78.3128,  81.8635,\n",
       "         85.4142,  88.9649,  92.5156,  96.0663,  99.617 , 103.1677,\n",
       "        106.7184, 110.2691, 113.8198, 117.3705, 120.9212, 124.4719,\n",
       "        128.0226, 131.5733, 135.124 , 138.6747, 142.2254, 145.7761,\n",
       "        149.3268, 152.8775, 156.4282, 159.9789, 163.5296, 167.0803,\n",
       "        170.631 , 174.1817, 177.7324, 181.2831, 184.8338, 188.3845,\n",
       "        191.9352, 195.4859, 199.0366, 202.5873, 206.138 , 209.6887,\n",
       "        213.2394, 216.7901, 220.3408, 223.8915, 227.4422, 230.9929,\n",
       "        234.5436, 238.0943, 241.645 , 245.1957, 248.7464, 252.2971,\n",
       "        255.8478, 259.3985, 262.9492, 266.4999, 270.0506, 273.6013,\n",
       "        277.152 , 280.7027, 284.2534, 287.8041, 291.3548, 294.9055,\n",
       "        298.4562, 302.0069, 305.5576, 309.1083, 312.659 , 316.2097,\n",
       "        319.7604, 323.3111, 326.8618, 330.4125, 333.9632, 337.5139,\n",
       "        341.0646, 344.6153, 348.166 , 351.7167, 355.2674, 358.8181,\n",
       "        362.3688, 365.9195, 369.4702, 373.0209, 376.5716, 380.1223,\n",
       "        383.673 , 387.2237, 390.7744, 394.3251, 397.8758, 401.4265,\n",
       "        404.9772, 408.5279, 412.0786, 415.6293, 419.18  ]),\n",
       " <a list of 100 Patch objects>)"
      ]
     },
     "execution_count": 20,
     "metadata": {},
     "output_type": "execute_result"
    },
    {
     "data": {
      "image/png": "[encoded data removed]",
      "text/plain": [
       "<Figure size 432x288 with 1 Axes>"
      ]
     },
     "metadata": {
      "needs_background": "light"
     },
     "output_type": "display_data"
    }
   ],
   "source": [
    "plt.title(\"Width Histogram\")\n",
    "plt.ylabel(\"error times\")\n",
    "plt.hist(data_ERROR.Width,bins=100)"
   ]
  },
  {
   "cell_type": "code",
   "execution_count": 21,
   "metadata": {},
   "outputs": [
    {
     "data": {
      "text/plain": [
       "(array([ 1.,  0.,  0.,  0.,  0.,  0.,  0.,  1.,  1.,  0.,  3.,  2.,  3.,\n",
       "         2.,  1.,  0.,  1.,  0.,  1.,  2.,  2.,  1.,  4.,  1.,  5.,  5.,\n",
       "         4.,  2.,  9.,  2.,  3.,  4.,  1.,  3., 10.,  6.,  9.,  4.,  2.,\n",
       "         1.,  3.,  8., 13.,  9., 13.,  5.,  9.,  4.,  2.,  2.,  2.,  3.,\n",
       "         3.,  3.,  2.,  2.,  3.,  3.,  2.,  2.,  2.,  3.,  2.,  5.,  5.,\n",
       "         3., 43.,  3.,  4., 21., 15., 19.,  4.,  1., 13.,  3.,  0.,  0.,\n",
       "         0.,  0.,  0.,  0.,  0.,  0.,  0.,  5.,  0.,  0.,  0.,  0.,  0.,\n",
       "         0.,  1.,  0.,  0.,  0.,  0.,  1.,  0.,  1.]),\n",
       " array([-40.95  , -40.3708, -39.7916, -39.2124, -38.6332, -38.054 ,\n",
       "        -37.4748, -36.8956, -36.3164, -35.7372, -35.158 , -34.5788,\n",
       "        -33.9996, -33.4204, -32.8412, -32.262 , -31.6828, -31.1036,\n",
       "        -30.5244, -29.9452, -29.366 , -28.7868, -28.2076, -27.6284,\n",
       "        -27.0492, -26.47  , -25.8908, -25.3116, -24.7324, -24.1532,\n",
       "        -23.574 , -22.9948, -22.4156, -21.8364, -21.2572, -20.678 ,\n",
       "        -20.0988, -19.5196, -18.9404, -18.3612, -17.782 , -17.2028,\n",
       "        -16.6236, -16.0444, -15.4652, -14.886 , -14.3068, -13.7276,\n",
       "        -13.1484, -12.5692, -11.99  , -11.4108, -10.8316, -10.2524,\n",
       "         -9.6732,  -9.094 ,  -8.5148,  -7.9356,  -7.3564,  -6.7772,\n",
       "         -6.198 ,  -5.6188,  -5.0396,  -4.4604,  -3.8812,  -3.302 ,\n",
       "         -2.7228,  -2.1436,  -1.5644,  -0.9852,  -0.406 ,   0.1732,\n",
       "          0.7524,   1.3316,   1.9108,   2.49  ,   3.0692,   3.6484,\n",
       "          4.2276,   4.8068,   5.386 ,   5.9652,   6.5444,   7.1236,\n",
       "          7.7028,   8.282 ,   8.8612,   9.4404,  10.0196,  10.5988,\n",
       "         11.178 ,  11.7572,  12.3364,  12.9156,  13.4948,  14.074 ,\n",
       "         14.6532,  15.2324,  15.8116,  16.3908,  16.97  ]),\n",
       " <a list of 100 Patch objects>)"
      ]
     },
     "execution_count": 21,
     "metadata": {},
     "output_type": "execute_result"
    },
    {
     "data": {
      "image/png": "[encoded data removed]",
      "text/plain": [
       "<Figure size 432x288 with 1 Axes>"
      ]
     },
     "metadata": {
      "needs_background": "light"
     },
     "output_type": "display_data"
    }
   ],
   "source": [
    "plt.title(\"Center Histogram\")\n",
    "plt.ylabel(\"error times\")\n",
    "plt.hist(data_ERROR.Center,bins=100)"
   ]
  },
  {
   "cell_type": "code",
   "execution_count": 22,
   "metadata": {},
   "outputs": [
    {
     "data": {
      "text/plain": [
       "(array([ 1.,  0.,  0.,  0.,  0.,  2.,  0.,  0.,  0.,  0.,  4.,  0.,  0.,\n",
       "         0.,  0., 12.,  0.,  0.,  0.,  0.,  0., 26.,  0.,  0.,  0.,  0.,\n",
       "         6.,  0.,  0.,  0.,  0.,  4.,  0.,  0.,  0.,  0., 11.,  0.,  0.,\n",
       "         0.,  0.,  0., 39.,  0.,  0.,  0.,  0., 35.,  0.,  0.,  0.,  0.,\n",
       "        36.,  0.,  0.,  0.,  0., 35.,  0.,  0.,  0.,  0.,  0., 42.,  0.,\n",
       "         0.,  0.,  0., 42.,  0.,  0.,  0.,  0., 22.,  0.,  0.,  0.,  0.,\n",
       "         7.,  0.,  0.,  0.,  0.,  0.,  6.,  0.,  0.,  0.,  0.,  0.,  0.,\n",
       "         0.,  0.,  0.,  7.,  0.,  0.,  0.,  0.,  6.]),\n",
       " array([26.37  , 26.4627, 26.5554, 26.6481, 26.7408, 26.8335, 26.9262,\n",
       "        27.0189, 27.1116, 27.2043, 27.297 , 27.3897, 27.4824, 27.5751,\n",
       "        27.6678, 27.7605, 27.8532, 27.9459, 28.0386, 28.1313, 28.224 ,\n",
       "        28.3167, 28.4094, 28.5021, 28.5948, 28.6875, 28.7802, 28.8729,\n",
       "        28.9656, 29.0583, 29.151 , 29.2437, 29.3364, 29.4291, 29.5218,\n",
       "        29.6145, 29.7072, 29.7999, 29.8926, 29.9853, 30.078 , 30.1707,\n",
       "        30.2634, 30.3561, 30.4488, 30.5415, 30.6342, 30.7269, 30.8196,\n",
       "        30.9123, 31.005 , 31.0977, 31.1904, 31.2831, 31.3758, 31.4685,\n",
       "        31.5612, 31.6539, 31.7466, 31.8393, 31.932 , 32.0247, 32.1174,\n",
       "        32.2101, 32.3028, 32.3955, 32.4882, 32.5809, 32.6736, 32.7663,\n",
       "        32.859 , 32.9517, 33.0444, 33.1371, 33.2298, 33.3225, 33.4152,\n",
       "        33.5079, 33.6006, 33.6933, 33.786 , 33.8787, 33.9714, 34.0641,\n",
       "        34.1568, 34.2495, 34.3422, 34.4349, 34.5276, 34.6203, 34.713 ,\n",
       "        34.8057, 34.8984, 34.9911, 35.0838, 35.1765, 35.2692, 35.3619,\n",
       "        35.4546, 35.5473, 35.64  ]),\n",
       " <a list of 100 Patch objects>)"
      ]
     },
     "execution_count": 22,
     "metadata": {},
     "output_type": "execute_result"
    },
    {
     "data": {
      "image/png": "[encoded data removed]",
      "text/plain": [
       "<Figure size 432x288 with 1 Axes>"
      ]
     },
     "metadata": {
      "needs_background": "light"
     },
     "output_type": "display_data"
    }
   ],
   "source": [
    "plt.title(\"Temprature Histogram\")\n",
    "plt.ylabel(\"error times\")\n",
    "plt.hist(data_ERROR.Temperature,bins=100)"
   ]
  },
  {
   "cell_type": "code",
   "execution_count": 23,
   "metadata": {},
   "outputs": [
    {
     "data": {
      "text/plain": [
       "(array([ 2.,  0.,  0.,  0.,  0.,  0.,  0.,  0.,  0., 12.,  0.,  0.,  0.,\n",
       "         0.,  0.,  0.,  0.,  0., 21.,  0.,  0.,  0.,  0.,  0.,  0.,  0.,\n",
       "         0., 22.,  0.,  0.,  0.,  0.,  0.,  0.,  0.,  0., 30.,  0.,  0.,\n",
       "         0.,  0.,  0.,  0.,  0.,  0., 40.,  0.,  0.,  0.,  0.,  0.,  0.,\n",
       "         0.,  0., 70.,  0.,  0.,  0.,  0.,  0.,  0.,  0.,  0., 79.,  0.,\n",
       "         0.,  0.,  0.,  0.,  0.,  0.,  0., 43.,  0.,  0.,  0.,  0.,  0.,\n",
       "         0.,  0.,  0., 19.,  0.,  0.,  0.,  0.,  0.,  0.,  0.,  0.,  4.,\n",
       "         0.,  0.,  0.,  0.,  0.,  0.,  0.,  0.,  1.]),\n",
       " array([68.  , 68.11, 68.22, 68.33, 68.44, 68.55, 68.66, 68.77, 68.88,\n",
       "        68.99, 69.1 , 69.21, 69.32, 69.43, 69.54, 69.65, 69.76, 69.87,\n",
       "        69.98, 70.09, 70.2 , 70.31, 70.42, 70.53, 70.64, 70.75, 70.86,\n",
       "        70.97, 71.08, 71.19, 71.3 , 71.41, 71.52, 71.63, 71.74, 71.85,\n",
       "        71.96, 72.07, 72.18, 72.29, 72.4 , 72.51, 72.62, 72.73, 72.84,\n",
       "        72.95, 73.06, 73.17, 73.28, 73.39, 73.5 , 73.61, 73.72, 73.83,\n",
       "        73.94, 74.05, 74.16, 74.27, 74.38, 74.49, 74.6 , 74.71, 74.82,\n",
       "        74.93, 75.04, 75.15, 75.26, 75.37, 75.48, 75.59, 75.7 , 75.81,\n",
       "        75.92, 76.03, 76.14, 76.25, 76.36, 76.47, 76.58, 76.69, 76.8 ,\n",
       "        76.91, 77.02, 77.13, 77.24, 77.35, 77.46, 77.57, 77.68, 77.79,\n",
       "        77.9 , 78.01, 78.12, 78.23, 78.34, 78.45, 78.56, 78.67, 78.78,\n",
       "        78.89, 79.  ]),\n",
       " <a list of 100 Patch objects>)"
      ]
     },
     "execution_count": 23,
     "metadata": {},
     "output_type": "execute_result"
    },
    {
     "data": {
      "image/png": "[encoded data removed]",
      "text/plain": [
       "<Figure size 432x288 with 1 Axes>"
      ]
     },
     "metadata": {
      "needs_background": "light"
     },
     "output_type": "display_data"
    }
   ],
   "source": [
    "plt.title(\"Drum1 Histogram\")\n",
    "plt.ylabel(\"error times\")\n",
    "plt.hist(data_ERROR.Drum1,bins=100)"
   ]
  },
  {
   "cell_type": "markdown",
   "metadata": {},
   "source": [
    "# Scutter Graph"
   ]
  },
  {
   "cell_type": "code",
   "execution_count": 24,
   "metadata": {},
   "outputs": [
    {
     "data": {
      "text/plain": [
       "<matplotlib.collections.PathCollection at 0x20099815888>"
      ]
     },
     "execution_count": 24,
     "metadata": {},
     "output_type": "execute_result"
    },
    {
     "data": {
      "image/png": "[encoded data removed]",
      "text/plain": [
       "<Figure size 432x288 with 1 Axes>"
      ]
     },
     "metadata": {
      "needs_background": "light"
     },
     "output_type": "display_data"
    }
   ],
   "source": [
    "plt.xlabel('Temperature')\n",
    "plt.ylabel('Speed')\n",
    "plt.title('scutter total')\n",
    "plt.scatter(data.Temperature,data.Speed)"
   ]
  },
  {
   "cell_type": "code",
   "execution_count": 25,
   "metadata": {},
   "outputs": [
    {
     "data": {
      "text/plain": [
       "<matplotlib.collections.PathCollection at 0x20099886e48>"
      ]
     },
     "execution_count": 25,
     "metadata": {},
     "output_type": "execute_result"
    },
    {
     "data": {
      "image/png": "[encoded data removed]",
      "text/plain": [
       "<Figure size 432x288 with 1 Axes>"
      ]
     },
     "metadata": {
      "needs_background": "light"
     },
     "output_type": "display_data"
    }
   ],
   "source": [
    "plt.xlabel('Temperature')\n",
    "plt.ylabel('Speed')\n",
    "plt.title('scutter error')\n",
    "plt.scatter(data_ERROR.Temperature,data_ERROR.Speed)"
   ]
  },
  {
   "cell_type": "code",
   "execution_count": 26,
   "metadata": {},
   "outputs": [
    {
     "data": {
      "text/plain": [
       "<matplotlib.collections.PathCollection at 0x200998f03c8>"
      ]
     },
     "execution_count": 26,
     "metadata": {},
     "output_type": "execute_result"
    },
    {
     "data": {
      "image/png": "[encoded data removed]",
      "text/plain": [
       "<Figure size 432x288 with 1 Axes>"
      ]
     },
     "metadata": {
      "needs_background": "light"
     },
     "output_type": "display_data"
    }
   ],
   "source": [
    "plt.xlabel('Drum1')\n",
    "plt.ylabel('Speed')\n",
    "plt.title('scutter total')\n",
    "plt.scatter(data.Drum1,data.Speed)"
   ]
  },
  {
   "cell_type": "code",
   "execution_count": 27,
   "metadata": {},
   "outputs": [
    {
     "data": {
      "text/plain": [
       "<matplotlib.collections.PathCollection at 0x20099958848>"
      ]
     },
     "execution_count": 27,
     "metadata": {},
     "output_type": "execute_result"
    },
    {
     "data": {
      "image/png": "[encoded data removed]",
      "text/plain": [
       "<Figure size 432x288 with 1 Axes>"
      ]
     },
     "metadata": {
      "needs_background": "light"
     },
     "output_type": "display_data"
    }
   ],
   "source": [
    "plt.xlabel('Drum1')\n",
    "plt.ylabel('Speed')\n",
    "plt.title('scutter Error')\n",
    "plt.scatter(data_ERROR.Drum1,data_ERROR.Speed)"
   ]
  },
  {
   "cell_type": "code",
   "execution_count": 28,
   "metadata": {},
   "outputs": [
    {
     "data": {
      "text/plain": [
       "<matplotlib.collections.PathCollection at 0x200999b7e08>"
      ]
     },
     "execution_count": 28,
     "metadata": {},
     "output_type": "execute_result"
    },
    {
     "data": {
      "image/png": "[encoded data removed]",
      "text/plain": [
       "<Figure size 432x288 with 1 Axes>"
      ]
     },
     "metadata": {
      "needs_background": "light"
     },
     "output_type": "display_data"
    }
   ],
   "source": [
    "plt.xlabel('Drum1')\n",
    "plt.ylabel('Width')\n",
    "plt.title('scutter total')\n",
    "plt.scatter(data.Drum1,data.Width)"
   ]
  },
  {
   "cell_type": "code",
   "execution_count": 29,
   "metadata": {},
   "outputs": [
    {
     "data": {
      "text/plain": [
       "<matplotlib.collections.PathCollection at 0x2009a9f1bc8>"
      ]
     },
     "execution_count": 29,
     "metadata": {},
     "output_type": "execute_result"
    },
    {
     "data": {
      "image/png": "[encoded data removed]",
      "text/plain": [
       "<Figure size 432x288 with 1 Axes>"
      ]
     },
     "metadata": {
      "needs_background": "light"
     },
     "output_type": "display_data"
    }
   ],
   "source": [
    "plt.xlabel('Drum1')\n",
    "plt.ylabel('Width')\n",
    "plt.title('scutter Error')\n",
    "plt.scatter(data_ERROR.Drum1,data_ERROR.Width)"
   ]
  },
  {
   "cell_type": "code",
   "execution_count": 30,
   "metadata": {},
   "outputs": [
    {
     "data": {
      "text/plain": [
       "<matplotlib.collections.PathCollection at 0x2009aa66088>"
      ]
     },
     "execution_count": 30,
     "metadata": {},
     "output_type": "execute_result"
    },
    {
     "data": {
      "image/png": "[encoded data removed]",
      "text/plain": [
       "<Figure size 432x288 with 1 Axes>"
      ]
     },
     "metadata": {
      "needs_background": "light"
     },
     "output_type": "display_data"
    }
   ],
   "source": [
    "plt.xlabel('Drum1')\n",
    "plt.ylabel('Center')\n",
    "plt.title('scutter total')\n",
    "plt.scatter(data.Drum1,data.Center)"
   ]
  },
  {
   "cell_type": "code",
   "execution_count": 31,
   "metadata": {},
   "outputs": [
    {
     "data": {
      "text/plain": [
       "<matplotlib.collections.PathCollection at 0x2009aac53c8>"
      ]
     },
     "execution_count": 31,
     "metadata": {},
     "output_type": "execute_result"
    },
    {
     "data": {
      "image/png": "[encoded data removed]",
      "text/plain": [
       "<Figure size 432x288 with 1 Axes>"
      ]
     },
     "metadata": {
      "needs_background": "light"
     },
     "output_type": "display_data"
    }
   ],
   "source": [
    "plt.xlabel('Drum1')\n",
    "plt.ylabel('Center')\n",
    "plt.title('scutter error')\n",
    "plt.scatter(data_ERROR.Drum1,data_ERROR.Center)"
   ]
  },
  {
   "cell_type": "code",
   "execution_count": null,
   "metadata": {},
   "outputs": [],
   "source": []
  },
  {
   "cell_type": "code",
   "execution_count": null,
   "metadata": {},
   "outputs": [],
   "source": []
  }
 ],
 "metadata": {
  "kernelspec": {
   "display_name": "Python 3",
   "language": "python",
   "name": "python3"
  },
  "language_info": {
   "codemirror_mode": {
    "name": "ipython",
    "version": 3
   },
   "file_extension": ".py",
   "mimetype": "text/x-python",
   "name": "python",
   "nbconvert_exporter": "python",
   "pygments_lexer": "ipython3",
   "version": "3.7.6"
  }
 },
 "nbformat": 4,
 "nbformat_minor": 2
}
